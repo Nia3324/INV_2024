{
 "cells": [
  {
   "cell_type": "markdown",
   "metadata": {},
   "source": [
    "# Explainability Metrics\n"
   ]
  },
  {
   "cell_type": "markdown",
   "metadata": {},
   "source": [
    "### Algorithm Class Score "
   ]
  },
  {
   "cell_type": "code",
   "execution_count": 1,
   "metadata": {},
   "outputs": [],
   "source": [
    "from difflib import get_close_matches\n",
    "\n",
    "alg_score = {\n",
    "    \"RandomForestClassifier\": 4,\n",
    "    \"KNeighborsClassifier\": 3,\n",
    "    \"SVC\": 2,\n",
    "    \"GaussianProcessClassifier\": 3,\n",
    "    \"DecisionTreeClassifier\": 5,\n",
    "    \"MLPClassifier\": 1,\n",
    "    \"AdaBoostClassifier\": 3,\n",
    "    \"GaussianNB\": 3.5,\n",
    "    \"QuadraticDiscriminantAnalysis\": 3,\n",
    "    \"LogisticRegression\": 4,\n",
    "    \"LinearRegression\": 3.5,\n",
    "    \"Sequential\":1\n",
    "}\n",
    "\n",
    "def algorithm_class_score(clf):\n",
    "\n",
    "    clf_name = type(clf).__name__\n",
    "\n",
    "    ''' \n",
    "    exp_score = clf_type_score.get(clf_name,np.nan)\n",
    "    properties= {\"dep\" :info('Depends on','Model'),\n",
    "        \"clf_name\": info(\"model type\",clf_name)}\n",
    "    '''\n",
    "\n",
    "    # Check if the clf_name is in the dictionary\n",
    "    if clf_name in alg_score:\n",
    "        exp_score = alg_score[clf_name]\n",
    "\n",
    "        #properties= {\"dep\" :info('Depends on','Model'),\n",
    "        #\"clf_name\": info(\"model type\",clf_name)}\n",
    "        #return  result(score=exp_score, properties=properties)\n",
    "        return exp_score \n",
    "    \n",
    "    # If not, try to find a close match\n",
    "    close_matches = get_close_matches(clf_name, alg_score.keys(), n=1, cutoff=0.6)\n",
    "    if close_matches:\n",
    "        exp_score = alg_score[close_matches[0]]\n",
    "\n",
    "        #properties= {\"dep\" :info('Depends on','Model'),\n",
    "        #\"clf_name\": info(\"model type\",clf_name)}\n",
    "        return exp_score\n",
    "    \n",
    "    # If no close match found \n",
    "    raise Exception(f\"No matching score found for '{clf_name}'\")"
   ]
  },
  {
   "cell_type": "code",
   "execution_count": 2,
   "metadata": {},
   "outputs": [
    {
     "name": "stdout",
     "output_type": "stream",
     "text": [
      "DecisionTreeClassifier\n",
      "5\n",
      "DecisionTreeRegressor\n",
      "5\n"
     ]
    }
   ],
   "source": [
    "# Example Decision Tree Classifer and Regressor\n",
    "from sklearn import tree\n",
    "\n",
    "Classifier = tree.DecisionTreeClassifier()\n",
    "Regressor = tree.DecisionTreeRegressor()\n",
    "\n",
    "print(type(Classifier).__name__)\n",
    "print(algorithm_class_score(Classifier))\n",
    "\n",
    "print(type(Regressor).__name__)\n",
    "print(algorithm_class_score(Regressor))"
   ]
  },
  {
   "cell_type": "code",
   "execution_count": 3,
   "metadata": {},
   "outputs": [
    {
     "name": "stdout",
     "output_type": "stream",
     "text": [
      "Sequential\n",
      "1\n"
     ]
    },
    {
     "name": "stderr",
     "output_type": "stream",
     "text": [
      "c:\\Users\\anton\\anaconda3\\envs\\INV\\lib\\site-packages\\keras\\src\\layers\\core\\dense.py:88: UserWarning: Do not pass an `input_shape`/`input_dim` argument to a layer. When using Sequential models, prefer using an `Input(shape)` object as the first layer in the model instead.\n",
      "  super().__init__(activity_regularizer=activity_regularizer, **kwargs)\n"
     ]
    }
   ],
   "source": [
    "# Example Neural Network Tensorflow \n",
    "import tensorflow as tf\n",
    "\n",
    "TFNN = tf.keras.models.Sequential([\n",
    "    tf.keras.layers.Dense(64, input_dim=128, activation='relu'),\n",
    "    tf.keras.layers.Dense(32, activation='relu'),\n",
    "    tf.keras.layers.Dense(1, activation='sigmoid')\n",
    "])\n",
    "\n",
    "print(type(TFNN).__name__)\n",
    "print(algorithm_class_score(TFNN))"
   ]
  },
  {
   "cell_type": "code",
   "execution_count": 9,
   "metadata": {},
   "outputs": [
    {
     "name": "stdout",
     "output_type": "stream",
     "text": [
      "MyModel\n"
     ]
    },
    {
     "ename": "Exception",
     "evalue": "No matching score found for 'MyModel'",
     "output_type": "error",
     "traceback": [
      "\u001b[1;31m---------------------------------------------------------------------------\u001b[0m",
      "\u001b[1;31mException\u001b[0m                                 Traceback (most recent call last)",
      "Cell \u001b[1;32mIn[9], line 17\u001b[0m\n\u001b[0;32m     14\u001b[0m model \u001b[38;5;241m=\u001b[39m MyModel()\n\u001b[0;32m     16\u001b[0m \u001b[38;5;28mprint\u001b[39m(\u001b[38;5;28mtype\u001b[39m(model)\u001b[38;5;241m.\u001b[39m\u001b[38;5;18m__name__\u001b[39m)\n\u001b[1;32m---> 17\u001b[0m \u001b[38;5;28mprint\u001b[39m(\u001b[43malgorithm_class_score\u001b[49m\u001b[43m(\u001b[49m\u001b[43mmodel\u001b[49m\u001b[43m)\u001b[49m)\n",
      "Cell \u001b[1;32mIn[1], line 40\u001b[0m, in \u001b[0;36malgorithm_class_score\u001b[1;34m(clf)\u001b[0m\n\u001b[0;32m     37\u001b[0m     \u001b[38;5;28;01mreturn\u001b[39;00m exp_score\n\u001b[0;32m     39\u001b[0m \u001b[38;5;66;03m# If no close match found \u001b[39;00m\n\u001b[1;32m---> 40\u001b[0m \u001b[38;5;28;01mraise\u001b[39;00m \u001b[38;5;167;01mException\u001b[39;00m(\u001b[38;5;124mf\u001b[39m\u001b[38;5;124m\"\u001b[39m\u001b[38;5;124mNo matching score found for \u001b[39m\u001b[38;5;124m'\u001b[39m\u001b[38;5;132;01m{\u001b[39;00mclf_name\u001b[38;5;132;01m}\u001b[39;00m\u001b[38;5;124m'\u001b[39m\u001b[38;5;124m\"\u001b[39m)\n",
      "\u001b[1;31mException\u001b[0m: No matching score found for 'MyModel'"
     ]
    }
   ],
   "source": [
    "# Custom non-sequential NN using keras\n",
    "class MyModel(tf.keras.Model):\n",
    "    def __init__(self):\n",
    "        super().__init__()\n",
    "        self.dense1 = tf.keras.layers.Dense(32, activation=\"relu\")\n",
    "        self.dense2 = tf.keras.layers.Dense(5, activation=\"softmax\")\n",
    "        self.dropout = tf.keras.layers.Dropout(0.5)\n",
    "\n",
    "    def call(self, inputs, training=False):\n",
    "        x = self.dense1(inputs)\n",
    "        x = self.dropout(x, training=training)\n",
    "        return self.dense2(x)\n",
    "\n",
    "model = MyModel()\n",
    "\n",
    "print(type(model).__name__)\n",
    "print(algorithm_class_score(model))"
   ]
  },
  {
   "cell_type": "code",
   "execution_count": 4,
   "metadata": {},
   "outputs": [
    {
     "name": "stdout",
     "output_type": "stream",
     "text": [
      "NeuralNetwork\n"
     ]
    },
    {
     "ename": "Exception",
     "evalue": "No matching score found for 'NeuralNetwork'",
     "output_type": "error",
     "traceback": [
      "\u001b[1;31m---------------------------------------------------------------------------\u001b[0m",
      "\u001b[1;31mException\u001b[0m                                 Traceback (most recent call last)",
      "Cell \u001b[1;32mIn[4], line 21\u001b[0m\n\u001b[0;32m     18\u001b[0m TOCHNN \u001b[38;5;241m=\u001b[39m NeuralNetwork()\n\u001b[0;32m     20\u001b[0m \u001b[38;5;28mprint\u001b[39m(\u001b[38;5;28mtype\u001b[39m(TOCHNN)\u001b[38;5;241m.\u001b[39m\u001b[38;5;18m__name__\u001b[39m)\n\u001b[1;32m---> 21\u001b[0m \u001b[38;5;28mprint\u001b[39m(\u001b[43malgorithm_class_score\u001b[49m\u001b[43m(\u001b[49m\u001b[43mTOCHNN\u001b[49m\u001b[43m)\u001b[49m)\n",
      "Cell \u001b[1;32mIn[1], line 40\u001b[0m, in \u001b[0;36malgorithm_class_score\u001b[1;34m(clf)\u001b[0m\n\u001b[0;32m     37\u001b[0m     \u001b[38;5;28;01mreturn\u001b[39;00m exp_score\n\u001b[0;32m     39\u001b[0m \u001b[38;5;66;03m# If no close match found \u001b[39;00m\n\u001b[1;32m---> 40\u001b[0m \u001b[38;5;28;01mraise\u001b[39;00m \u001b[38;5;167;01mException\u001b[39;00m(\u001b[38;5;124mf\u001b[39m\u001b[38;5;124m\"\u001b[39m\u001b[38;5;124mNo matching score found for \u001b[39m\u001b[38;5;124m'\u001b[39m\u001b[38;5;132;01m{\u001b[39;00mclf_name\u001b[38;5;132;01m}\u001b[39;00m\u001b[38;5;124m'\u001b[39m\u001b[38;5;124m\"\u001b[39m)\n",
      "\u001b[1;31mException\u001b[0m: No matching score found for 'NeuralNetwork'"
     ]
    }
   ],
   "source": [
    "# Example Neural Network Pytoch\n",
    "import torch\n",
    "import torch.nn as nn\n",
    "\n",
    "class NeuralNetwork(nn.Module):\n",
    "    def __init__(self):\n",
    "        super(NeuralNetwork, self).__init__()\n",
    "        self.fc1 = nn.Linear(128, 64)  \n",
    "        self.fc2 = nn.Linear(64, 32)  \n",
    "        self.fc3 = nn.Linear(32, 1)    \n",
    "\n",
    "    def forward(self, x):\n",
    "        x = torch.relu(self.fc1(x))   \n",
    "        x = torch.relu(self.fc2(x))    \n",
    "        x = torch.sigmoid(self.fc3(x)) \n",
    "        return x\n",
    "    \n",
    "TOCHNN = NeuralNetwork()\n",
    "\n",
    "print(type(TOCHNN).__name__)\n",
    "print(algorithm_class_score(TOCHNN))"
   ]
  },
  {
   "cell_type": "markdown",
   "metadata": {},
   "source": [
    "'NeuralNetwork', 'Sequential', 'MLPClassifier', custom Keras Neural Networks \n",
    "- whats in common, how can we identidy them?"
   ]
  },
  {
   "cell_type": "markdown",
   "metadata": {},
   "source": [
    "### Feature Correlation Score"
   ]
  },
  {
   "cell_type": "code",
   "execution_count": 2,
   "metadata": {},
   "outputs": [],
   "source": [
    "import numpy as np\n",
    "import pandas as pd\n",
    "\n",
    "def correlated_features_score(train_data, test_data, thresholds=[0.05, 0.16, 0.28, 0.4], target_column=None, verbose=False):\n",
    "    \n",
    "    test_data = test_data.copy()\n",
    "    train_data = train_data.copy()\n",
    "     \n",
    "    if target_column:\n",
    "        X_test = test_data.drop(target_column, axis=1)\n",
    "        X_train = train_data.drop(target_column, axis=1)\n",
    "    else:\n",
    "        X_test = test_data.iloc[:,:-1]\n",
    "        X_train = train_data.iloc[:,:-1]\n",
    "        \n",
    "    \n",
    "    df_comb = pd.concat([X_test, X_train])\n",
    "    corr_matrix = df_comb.corr().abs()\n",
    "\n",
    "    # Select upper triangle of correlation matrix\n",
    "    upper = corr_matrix.where(np.triu(np.ones(corr_matrix.shape), k=1).astype(np.bool))\n",
    "    \n",
    "    # Compute average and standar deviation from upper correlation matrix \n",
    "    avg_corr = upper.values[np.triu_indices_from(upper.values,1)].mean()\n",
    "    std_corr = upper.values[np.triu_indices_from(upper.values,1)].std()\n",
    "\n",
    "    # Find features with correlation greater than avg_corr + std_corr\n",
    "    to_drop = [column for column in upper.columns if any(upper[column] > (avg_corr+std_corr))]\n",
    "    if verbose: print(to_drop)\n",
    "    \n",
    "    pct_drop = len(to_drop)/len(df_comb.columns)\n",
    "    \n",
    "    bins = thresholds\n",
    "    score = 5-np.digitize(pct_drop, bins, right=True) \n",
    "\n",
    "    #properties= {\"dep\" :info('Depends on','Training Data'),\n",
    "    #    \"pct_drop\" : info(\"Percentage of highly correlated features\", \"{:.2f}%\".format(100*pct_drop))}\n",
    "    #return  result(score=int(score), properties=properties)\n",
    "    \n",
    "    return score"
   ]
  },
  {
   "cell_type": "markdown",
   "metadata": {},
   "source": [
    "For experimental purposes there will be used the following datasets:\n",
    "\n",
    "- [Healthcare Diabetes Dataset](https://www.kaggle.com/datasets/nanditapore/healthcare-diabetes)\n",
    "- [Iris Dataset](https://www.kaggle.com/datasets/uciml/iris)"
   ]
  },
  {
   "cell_type": "code",
   "execution_count": 3,
   "metadata": {},
   "outputs": [
    {
     "name": "stdout",
     "output_type": "stream",
     "text": [
      "['Insulin', 'BMI']\n",
      "2\n"
     ]
    },
    {
     "name": "stderr",
     "output_type": "stream",
     "text": [
      "C:\\Users\\anton\\AppData\\Local\\Temp\\ipykernel_13180\\3956601288.py:21: DeprecationWarning: `np.bool` is a deprecated alias for the builtin `bool`. To silence this warning, use `bool` by itself. Doing this will not modify any behavior and is safe. If you specifically wanted the numpy scalar type, use `np.bool_` here.\n",
      "Deprecated in NumPy 1.20; for more details and guidance: https://numpy.org/devdocs/release/1.20.0-notes.html#deprecations\n",
      "  upper = corr_matrix.where(np.triu(np.ones(corr_matrix.shape), k=1).astype(np.bool))\n"
     ]
    }
   ],
   "source": [
    "# Example with Healthcare Diabetes Dataset\n",
    "import pandas as pd\n",
    "from sklearn.model_selection import train_test_split\n",
    "\n",
    "health = pd.read_csv('Data/Healthcare-Diabetes.csv')\n",
    "\n",
    "health_X = health[health.columns[1:9]]\n",
    "health_y = health[health.columns[-1]]\n",
    "\n",
    "X_train, X_test, y_train, y_test = train_test_split(health_X, health_y, test_size=0.33, random_state=42)\n",
    "\n",
    "\n",
    "print(correlated_features_score(X_train, X_test, verbose=True))"
   ]
  },
  {
   "cell_type": "code",
   "execution_count": 5,
   "metadata": {},
   "outputs": [
    {
     "name": "stdout",
     "output_type": "stream",
     "text": [
      "['petallength']\n",
      "3\n"
     ]
    },
    {
     "name": "stderr",
     "output_type": "stream",
     "text": [
      "C:\\Users\\anton\\AppData\\Local\\Temp\\ipykernel_13180\\3956601288.py:21: DeprecationWarning: `np.bool` is a deprecated alias for the builtin `bool`. To silence this warning, use `bool` by itself. Doing this will not modify any behavior and is safe. If you specifically wanted the numpy scalar type, use `np.bool_` here.\n",
      "Deprecated in NumPy 1.20; for more details and guidance: https://numpy.org/devdocs/release/1.20.0-notes.html#deprecations\n",
      "  upper = corr_matrix.where(np.triu(np.ones(corr_matrix.shape), k=1).astype(np.bool))\n"
     ]
    }
   ],
   "source": [
    "# Example with Iris Dataset\n",
    "iris = pd.read_csv('Data/iris.csv')\n",
    "\n",
    "iris_X = iris[iris.columns[:5]]\n",
    "iris_y = iris['class']\n",
    "\n",
    "X_train, X_test, y_train, y_test = train_test_split(iris_X, iris_y, test_size=0.33, random_state=42)\n",
    "print(correlated_features_score(X_train, X_test, verbose=True))\n"
   ]
  }
 ],
 "metadata": {
  "kernelspec": {
   "display_name": "INV",
   "language": "python",
   "name": "python3"
  },
  "language_info": {
   "codemirror_mode": {
    "name": "ipython",
    "version": 3
   },
   "file_extension": ".py",
   "mimetype": "text/x-python",
   "name": "python",
   "nbconvert_exporter": "python",
   "pygments_lexer": "ipython3",
   "version": "3.9.19"
  }
 },
 "nbformat": 4,
 "nbformat_minor": 2
}
